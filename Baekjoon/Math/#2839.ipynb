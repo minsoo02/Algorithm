{
 "cells": [
  {
   "cell_type": "code",
   "execution_count": null,
   "metadata": {},
   "outputs": [],
   "source": [
    "# 2839\n",
    "n = int(input())\n",
    "result = 0\n",
    "tmp = 0\n",
    "\n",
    "if ((n%5)%3 == 0):\n",
    "    result = result + (n//5) + ((n%5)//3)\n",
    "    print(result)\n",
    "    tmp = 1\n",
    "else:\n",
    "    for i in reversed(range(n//5+1)):\n",
    "        m = n - (5*i)\n",
    "        if (m%3 == 0 and tmp == 0):\n",
    "            result = result + i + (m//3)\n",
    "            print(result)\n",
    "            tmp = 1\n",
    "    if (tmp == 0):\n",
    "        print(-1)\n",
    "        tmp = 1"
   ]
  }
 ],
 "metadata": {
  "kernelspec": {
   "display_name": "Python 3",
   "language": "python",
   "name": "python3"
  },
  "language_info": {
   "codemirror_mode": {
    "name": "ipython",
    "version": 3
   },
   "file_extension": ".py",
   "mimetype": "text/x-python",
   "name": "python",
   "nbconvert_exporter": "python",
   "pygments_lexer": "ipython3",
   "version": "3.7.6"
  },
  "toc": {
   "base_numbering": 1,
   "nav_menu": {},
   "number_sections": false,
   "sideBar": true,
   "skip_h1_title": false,
   "title_cell": "Table of Contents",
   "title_sidebar": "Contents",
   "toc_cell": false,
   "toc_position": {},
   "toc_section_display": true,
   "toc_window_display": false
  }
 },
 "nbformat": 4,
 "nbformat_minor": 4
}
